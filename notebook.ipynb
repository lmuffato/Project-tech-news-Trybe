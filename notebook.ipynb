{
 "cells": [
  {
   "cell_type": "code",
   "execution_count": 33,
   "metadata": {},
   "outputs": [],
   "source": [
    "import requests\n",
    "import parsel\n",
    "import time\n",
    "from datetime import datetime\n",
    "import re\n",
    "import json\n",
    "from tech_news.database import create_news"
   ]
  },
  {
   "cell_type": "markdown",
   "metadata": {},
   "source": [
    "### Requisito 1"
   ]
  },
  {
   "cell_type": "code",
   "execution_count": 3,
   "metadata": {},
   "outputs": [],
   "source": [
    "def fetch(url):\n",
    "    time.sleep(1)\n",
    "    try:\n",
    "        response = requests.get(url=url, timeout=3)\n",
    "        if response.ok:\n",
    "            return response.text\n",
    "        else:\n",
    "            return None\n",
    "    except requests.exceptions.ReadTimeout:\n",
    "        return None"
   ]
  },
  {
   "cell_type": "markdown",
   "metadata": {},
   "source": [
    "### Requisito 2"
   ]
  },
  {
   "cell_type": "code",
   "execution_count": 4,
   "metadata": {},
   "outputs": [],
   "source": [
    "def scrape_novidades(html_content):\n",
    "    selector = parsel.Selector(text=html_content)\n",
    "    res = selector.css('.tec--list .tec--card__title__link')\n",
    "    return list(map(lambda x: x.attrib['href'], res))"
   ]
  },
  {
   "cell_type": "code",
   "execution_count": 5,
   "metadata": {},
   "outputs": [],
   "source": [
    "request_text = fetch('https://www.tecmundo.com.br/novidades')"
   ]
  },
  {
   "cell_type": "code",
   "execution_count": 6,
   "metadata": {},
   "outputs": [
    {
     "data": {
      "text/plain": [
       "['https://www.tecmundo.com.br/seguranca/232449-golpe-usando-token-falso-amazon-rouba-criptomoedas-vitimas.htm',\n",
       " 'https://www.tecmundo.com.br/mercado/232464-momento-olhar-startups-nao-passou.htm',\n",
       " 'https://www.tecmundo.com.br/minha-serie/232437-the-office-atrizes-serie-comentam-famoso-episodio-parkour.htm',\n",
       " 'https://www.tecmundo.com.br/mercado/232458-microsoft-5-empresas-bilionarias-games-conhecer.htm',\n",
       " 'https://www.tecmundo.com.br/mercado/232417-epic-games-volta-brigar-apple-devido-monopolio-ios.htm',\n",
       " 'https://www.tecmundo.com.br/voxel/232477-ps4-pior-melhor-segundo-critica.htm',\n",
       " 'https://www.tecmundo.com.br/voxel/232398-the-last-of-us-2-joel-esconde-detalhe-legal-flashback-ellie.htm',\n",
       " 'https://www.tecmundo.com.br/minha-serie/232431-and-just-like-that-serie-agrada-fas-sex-and-the-city-critica.htm',\n",
       " 'https://www.tecmundo.com.br/produto/232484-this-is-us-saiba-onde-assistir-serie-dramatica-nbc.htm',\n",
       " 'https://www.tecmundo.com.br/minha-serie/232000-7-servicos-voce-assistir-doramas-brasil.htm',\n",
       " 'https://www.tecmundo.com.br/seguranca/232441-ataques-ciberneticos-aumentarao-eleicoes-2022-diz-especialista.htm',\n",
       " 'https://www.tecmundo.com.br/minha-serie/232483-bel-air-reboot-um-maluco-pedaco-novos-nomes-elenco.htm',\n",
       " 'https://www.tecmundo.com.br/voxel/232462-battlefield-2042-ganhar-versao-free-to-play-segundo-boatos.htm',\n",
       " 'https://www.tecmundo.com.br/mercado/232478-ifood-recebe-autorizacao-anac-fazer-entregas-drones.htm',\n",
       " 'https://www.tecmundo.com.br/minha-serie/232479-star-trek-picard-2-temporada-ganha-trailer-whoopi-goldberg-veja.htm',\n",
       " 'https://www.tecmundo.com.br/ciencia/232448-covid-19-aumenta-brasil-vacina-mantem-mortes-reduzidas.htm',\n",
       " 'https://www.tecmundo.com.br/voxel/232455-need-for-speed-criterion-chegar-setembro-outubro-2022.htm',\n",
       " 'https://www.tecmundo.com.br/aliexpress-experience/232474-5-dicas-facilitar-compras-aliexpress.htm',\n",
       " 'https://www.tecmundo.com.br/software/232432-windows-11-conheca-diferentes-versoes-sistema-operacional.htm',\n",
       " 'https://www.tecmundo.com.br/voxel/232454-call-of-duty-deixar-lancado-anualmente.htm']"
      ]
     },
     "execution_count": 6,
     "metadata": {},
     "output_type": "execute_result"
    }
   ],
   "source": [
    "scrape_novidades(request_text)"
   ]
  },
  {
   "cell_type": "markdown",
   "metadata": {},
   "source": [
    "### Requisito 03"
   ]
  },
  {
   "cell_type": "code",
   "execution_count": 7,
   "metadata": {},
   "outputs": [],
   "source": [
    "def scrape_next_page_link(html_content):\n",
    "    selector = parsel.Selector(text=html_content)\n",
    "    return selector.css('.tec--list a.tec--btn::attr(\"href\")').get()"
   ]
  },
  {
   "cell_type": "markdown",
   "metadata": {},
   "source": [
    "### Requisito 4"
   ]
  },
  {
   "cell_type": "code",
   "execution_count": 8,
   "metadata": {},
   "outputs": [],
   "source": [
    "def extract_count(strings_list, regex_r):\n",
    "    output = 0\n",
    "    for y in strings_list:\n",
    "        try:\n",
    "            regex = re.search(regex_r, y)\n",
    "            return int(regex.groups()[0])\n",
    "        except AttributeError:\n",
    "            pass\n",
    "    return output\n",
    "\n",
    "\n",
    "def parse_json_writer(jsons_str):\n",
    "    output = None\n",
    "    for json_str in jsons_str:\n",
    "        if json_str is None:\n",
    "            return None\n",
    "\n",
    "        try:\n",
    "            deserialized_json = json.loads(json_str)\n",
    "            output = deserialized_json[\"author\"][\"name\"]\n",
    "        except KeyError:\n",
    "            pass\n",
    "\n",
    "    return output\n",
    "\n",
    "\n",
    "def extract_writer(selector):\n",
    "    selectors = [\n",
    "        selector.css(\".tec--author__info__link::text\").get(),\n",
    "        selector.css(\n",
    "            \".z--flex tec--timestamp tec--timestamp__item::text\"\n",
    "        ).get(),\n",
    "        parse_json_writer(\n",
    "            selector.css('script[type=\"application/ld+json\"]::text').getall()\n",
    "        ),\n",
    "    ]\n",
    "\n",
    "    for writer in selectors:\n",
    "        if writer is not None:\n",
    "            return str.strip(writer)\n",
    "\n",
    "    return None\n",
    "\n",
    "\n",
    "def scrape_noticia(html_content):\n",
    "    selector = parsel.Selector(text=html_content)\n",
    "\n",
    "    seletected = selector.css(\".tec--toolbar__item *::text\").getall()\n",
    "\n",
    "    output = {\n",
    "        \"url\": selector.css('link[rel=\"canonical\"]::attr(href)').get(),\n",
    "        \"title\": selector.css(\"#js-article-title::text\").get(),\n",
    "        \"timestamp\": selector.css(\"#js-article-date::attr(datetime)\").get(),\n",
    "        \"writer\": extract_writer(selector),\n",
    "        \"shares_count\": extract_count(seletected, r\"(\\d+) Compartilharam\"),\n",
    "        \"comments_count\": extract_count(seletected, r\"(\\d+) Comentários\"),\n",
    "        \"summary\": \"\".join(\n",
    "            selector.css(\".tec--article__body > p:first-child ::text\").getall()\n",
    "        ),\n",
    "        \"sources\": list(\n",
    "            map(\n",
    "                str.strip,\n",
    "                selector.css(\".z--mb-16 div a::text\").getall(),\n",
    "            )\n",
    "        ),\n",
    "        \"categories\": list(\n",
    "            map(str.strip, selector.css(\"#js-categories a::text\").getall())\n",
    "        ),\n",
    "    }\n",
    "    return output\n"
   ]
  },
  {
   "cell_type": "code",
   "execution_count": 9,
   "metadata": {},
   "outputs": [
    {
     "data": {
      "text/plain": [
       "{'url': 'https://www.tecmundo.com.br/minha-serie/215285-falcao-soldado-invernal-fas-reacao-curiosa-sebastian-stan.htm',\n",
       " 'title': 'Falcão e o Soldado Invernal: fãs têm reação curiosa ao ver Sebastian Stan',\n",
       " 'timestamp': '2021-04-09T20:00:01',\n",
       " 'writer': 'Gabriel Witiuk',\n",
       " 'shares_count': 0,\n",
       " 'comments_count': 2,\n",
       " 'summary': 'Atualmente fazendo sucesso na série Falcão e o Soldado Invernal, Sebastian Stan tem interpretado Bucky Barnes desde o primeiro filme do Capitão América. Stan contou que os fãs da Marvel sempre tentam \"ativar\" o lado assassino do personagem quando reconhecem o ator nas ruas.',\n",
       " 'sources': ['CBR', 'MCU Exchange'],\n",
       " 'categories': ['Minha Série', 'Séries', 'Elenco', 'Marvel', 'Disney+']}"
      ]
     },
     "execution_count": 9,
     "metadata": {},
     "output_type": "execute_result"
    }
   ],
   "source": [
    "scrape_noticia(\n",
    "  fetch('https://www.tecmundo.com.br/minha-serie/215285-falcao-soldado-invernal-fas-reacao-curiosa-sebastian-stan.htm')\n",
    ")"
   ]
  },
  {
   "cell_type": "markdown",
   "metadata": {},
   "source": [
    "### Requisito 5"
   ]
  },
  {
   "cell_type": "code",
   "execution_count": 35,
   "metadata": {},
   "outputs": [
    {
     "data": {
      "text/plain": [
       "[{'url': 'https://www.tecmundo.com.br/minha-serie/232439-demon-slayer-japao-fas-respeitam-personagens-maes.htm',\n",
       "  'title': 'Demon Slayer: no Japão, fãs respeitam mais os personagens do que as mães',\n",
       "  'timestamp': '2022-01-21T20:30:01',\n",
       "  'writer': 'André Luis Dias Custodio',\n",
       "  'shares_count': 0,\n",
       "  'comments_count': 0,\n",
       "  'summary': 'Uma pesquisa inusitada realizada entre fãs de anime no Japão revelou que os participantes respeitam mais os personagens de Demon Slayer do que suas próprias mães. O projeto, que contou com a colaboração de mais de 7,5 mil estudantes do Ensino Fundamental, tinha a proposta de classificar as pessoas mais populares durante o ano de 2020 e foi intitulada de “Quem é a pessoa que você mais respeita em 2020?”.',\n",
       "  'sources': ['Screen Rant', 'Screen Rant', 'SoraNews'],\n",
       "  'categories': ['Minha Série', 'Séries', 'Anime']},\n",
       " {'url': 'https://www.tecmundo.com.br/seguranca/232449-golpe-usando-token-falso-amazon-rouba-criptomoedas-vitimas.htm',\n",
       "  'title': 'Golpe usando token falso da Amazon rouba criptomoedas das vítimas',\n",
       "  'timestamp': '2022-01-21T20:00:01',\n",
       "  'writer': 'André Luiz Dias Gonçalves',\n",
       "  'shares_count': 0,\n",
       "  'comments_count': 0,\n",
       "  'summary': 'Um novo golpe que divulga o suposto lançamento da “criptomoeda da Amazon” tem feito vítimas em vários países, que tiveram suas moedas digitais roubadas. A Akamai Technologies divulgou detalhes sobre o mecanismo da fraude na quinta-feira (20).',\n",
       "  'sources': ['ZDNET', 'Akamai Technologies', 'Security Report'],\n",
       "  'categories': ['Segurança', 'Mercado', 'Criptomoedas', 'Amazon']},\n",
       " {'url': 'https://www.tecmundo.com.br/mercado/232464-momento-olhar-startups-nao-passou.htm',\n",
       "  'title': 'O momento de olhar para as startups não passou',\n",
       "  'timestamp': '2022-01-21T20:00:01',\n",
       "  'writer': 'Eduardo Cosomano',\n",
       "  'shares_count': 0,\n",
       "  'comments_count': 0,\n",
       "  'summary': 'É muito importante compreender a diferença fundamental entre as palavras “tendência” e “moda”, ainda mais quando analisamos algo aparentemente tão subjetivo quanto inovação.. É uma distinção visível se imaginarmos um gráfico: a moda forma uma onda que sobe e alcança um pico, mas logo em seguida desce, geralmente de forma abrupta.',\n",
       "  'sources': [],\n",
       "  'categories': ['Mercado', 'Startups', 'Economia', 'Coluna']},\n",
       " {'url': 'https://www.tecmundo.com.br/minha-serie/232437-the-office-atrizes-serie-comentam-famoso-episodio-parkour.htm',\n",
       "  'title': 'The Office: atrizes da série comentam famoso episódio do parkour',\n",
       "  'timestamp': '2022-01-21T19:30:01',\n",
       "  'writer': 'Robinson Samulak Alves',\n",
       "  'shares_count': 0,\n",
       "  'comments_count': 0,\n",
       "  'summary': 'As atrizes Jenna Fischer e Angela Kinsey (Pam Beesly e Angela Martin, respectivamente), se reúnem toda a semana para lembrar das histórias de bastidores de The Office no podcast Office Ladies. No episódio mais recente, o tema foi um dos episódios com a abertura mais popular da série.',\n",
       "  'sources': ['Screen Rant'],\n",
       "  'categories': ['Minha Série', 'Séries']},\n",
       " {'url': 'https://www.tecmundo.com.br/mercado/232458-microsoft-5-empresas-bilionarias-games-conhecer.htm',\n",
       "  'title': 'Além da Microsoft: 5 empresas bilionárias dos games para conhecer',\n",
       "  'timestamp': '2022-01-21T19:30:01',\n",
       "  'writer': 'Mariela Cancelier',\n",
       "  'shares_count': 0,\n",
       "  'comments_count': 0,\n",
       "  'summary': 'A Microsoft anunciou na última terça-feira (18) a aquisição da Activision Blizzard, em um acordo de aproximadamente US$ 70 bilhões. Com a compra, a gigante estadunidense vai expandir as possibilidades para o Game Pass — com acesso a títulos como\\xa0Call of Duty, Warcraft, Diablo\\xa0e\\xa0Overwatch — e aumentar seu valor de mercado global. Atualmente, a Microsoft está no primeiro lugar no ranking mundial das maiores companhias que investem no mercado de videogames, fechando um valor de US$ 2,3 trilhões.',\n",
       "  'sources': ['Companies Market Cap', 'Tencent', 'CNBC'],\n",
       "  'categories': ['Mercado', 'Microsoft', 'League of Legends', 'Free Fire']},\n",
       " {'url': 'https://www.tecmundo.com.br/mercado/232417-epic-games-volta-brigar-apple-devido-monopolio-ios.htm',\n",
       "  'title': \"Epic Games volta a brigar com Apple devido a 'monopólio' no iOS\",\n",
       "  'timestamp': '2022-01-21T19:00:01',\n",
       "  'writer': 'Daniel Trefilio Pereira de Carvalho',\n",
       "  'shares_count': 0,\n",
       "  'comments_count': 0,\n",
       "  'summary': 'A Epic Games apresentou nesta quinta-feira (20) um recurso e voltou para estender a batalha judicial contra a Apple\\xa0no caso da App Store. Entre outras coisas, o processo original acusava a Apple de praticar monopólio na venda e distribuição de aplicativos em dispositivos com iOS.',\n",
       "  'sources': ['The Verge'],\n",
       "  'categories': ['Mercado', 'Epic Games', 'Apple']},\n",
       " {'url': 'https://www.tecmundo.com.br/voxel/232477-ps4-pior-melhor-segundo-critica.htm',\n",
       "  'title': 'PS4: do pior ao melhor, segundo a crítica',\n",
       "  'timestamp': '2022-01-21T19:00:01',\n",
       "  'writer': 'Victor Francesco Casagrande Simões',\n",
       "  'shares_count': 0,\n",
       "  'comments_count': 0,\n",
       "  'summary': 'Após a sétima geração de consoles, o padrão de qualidade subiu muito para todas as empresas disputando o topo das vendas. A Sony, que teve um ótimo resultado com o PS3, precisava apresentar um novo videogame que superasse as expectativas.',\n",
       "  'sources': [],\n",
       "  'categories': ['Voxel', 'PS4']},\n",
       " {'url': 'https://www.tecmundo.com.br/voxel/232398-the-last-of-us-2-joel-esconde-detalhe-legal-flashback-ellie.htm',\n",
       "  'title': 'The Last of Us 2: Joel esconde um detalhe legal no flashback da Ellie',\n",
       "  'timestamp': '2022-01-21T18:30:01',\n",
       "  'writer': 'Thomas Schulze Costa',\n",
       "  'shares_count': 0,\n",
       "  'comments_count': 0,\n",
       "  'summary': 'Já faz quase um ano e meio desde que The Last of Us Part 2 foi lançado, mas os fãs da obra-prima da Naughty Dog continuam encontrando alguns detalhes escondidos que muitos jogadores podem ter deixado passar batido em seus gameplays.',\n",
       "  'sources': ['Dualshockers'],\n",
       "  'categories': ['Voxel', 'The Last of Us Part II', 'Cultura Pop']},\n",
       " {'url': 'https://www.tecmundo.com.br/minha-serie/232431-and-just-like-that-serie-agrada-fas-sex-and-the-city-critica.htm',\n",
       "  'title': 'And Just Like That: série agrada fãs de Sex and the City (crítica)',\n",
       "  'timestamp': '2022-01-21T18:30:01',\n",
       "  'writer': 'Maura Martins',\n",
       "  'shares_count': 0,\n",
       "  'comments_count': 0,\n",
       "  'summary': 'Toda mulher que era uma jovem adulta no início dos anos 2000 lembra com nitidez o fenômeno que foi a série Sex and the city,\\xa0produzida pela HBO entre 1998 e 2004. O seriado apresentava quatro amigas solteiras em Nova York, na casa dos 30 anos, que pareciam viver uma vida de sonho: estavam na melhor cidade do mundo, desfrutando de restaurantes maravilhosos, em empregos divertidos, enquanto saíam com homens interessantes.',\n",
       "  'sources': [],\n",
       "  'categories': ['Minha Série', 'Séries', 'HBO Max', 'Reviews', 'Coluna']},\n",
       " {'url': 'https://www.tecmundo.com.br/produto/232484-this-is-us-saiba-onde-assistir-serie-dramatica-nbc.htm',\n",
       "  'title': 'This Is Us: saiba onde assistir a série dramática da NBC',\n",
       "  'timestamp': '2022-01-21T18:30:01',\n",
       "  'writer': 'Matheus Rocha da Silva',\n",
       "  'shares_count': 0,\n",
       "  'comments_count': 0,\n",
       "  'summary': 'A série\\xa0This Is Us é um sucesso de audiência na NBC, emissora na qual a produção é transmitida nos Estados Unidos. Contando com uma história repleta de melodrama e personagens cativantes, na trama, acompanha-se a saga da Família Pearson em épocas distintas — partindo dos tempos atuais até a visualização de momentos em um passado não muito distante.',\n",
       "  'sources': ['IMDb', 'Star Plus'],\n",
       "  'categories': ['Produto', 'This Is Us', 'Star+', 'Séries']}]"
      ]
     },
     "execution_count": 35,
     "metadata": {},
     "output_type": "execute_result"
    }
   ],
   "source": [
    "def get_tech_news(n):\n",
    "    url = 'https://www.tecmundo.com.br/novidades'\n",
    "    links = []\n",
    "    output = []\n",
    "\n",
    "    while(len(links) < n):\n",
    "      html_content = fetch(url)\n",
    "      page_links = scrape_novidades(html_content)\n",
    "      links.extend(page_links)\n",
    "      url = scrape_next_page_link(html_content)\n",
    "\n",
    "    for x in links[:n]:\n",
    "      scrape = scrape_noticia(fetch(x))\n",
    "      output.append(scrape)\n",
    "\n",
    "    create_news(output)\n",
    "    return output\n",
    "      \n",
    "get_tech_news(10)"
   ]
  }
 ],
 "metadata": {
  "interpreter": {
   "hash": "08e36398507cef9315c4504dcbd3ca8a6c098298f4b8c1c58258f6f6d6c82ea1"
  },
  "kernelspec": {
   "display_name": "Python 3.8.10 64-bit ('.venv': venv)",
   "language": "python",
   "name": "python3"
  },
  "language_info": {
   "codemirror_mode": {
    "name": "ipython",
    "version": 3
   },
   "file_extension": ".py",
   "mimetype": "text/x-python",
   "name": "python",
   "nbconvert_exporter": "python",
   "pygments_lexer": "ipython3",
   "version": "3.8.10"
  },
  "orig_nbformat": 4
 },
 "nbformat": 4,
 "nbformat_minor": 2
}
