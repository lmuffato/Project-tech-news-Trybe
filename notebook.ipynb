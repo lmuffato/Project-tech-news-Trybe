{
 "cells": [
  {
   "cell_type": "code",
   "execution_count": 1,
   "metadata": {},
   "outputs": [],
   "source": [
    "import requests\n",
    "import parsel\n",
    "import time\n",
    "from datetime import datetime\n",
    "import re\n",
    "import json"
   ]
  },
  {
   "cell_type": "markdown",
   "metadata": {},
   "source": [
    "### Requisito 1"
   ]
  },
  {
   "cell_type": "code",
   "execution_count": 2,
   "metadata": {},
   "outputs": [],
   "source": [
    "def fetch(url):\n",
    "    time.sleep(1)\n",
    "    try:\n",
    "        response = requests.get(url=url, timeout=3)\n",
    "        if response.ok:\n",
    "            return response.text\n",
    "        else:\n",
    "            return None\n",
    "    except requests.exceptions.ReadTimeout:\n",
    "        return None"
   ]
  },
  {
   "cell_type": "markdown",
   "metadata": {},
   "source": [
    "### Requisito 2"
   ]
  },
  {
   "cell_type": "code",
   "execution_count": 3,
   "metadata": {},
   "outputs": [],
   "source": [
    "def scrape_novidades(html_content):\n",
    "    selector = parsel.Selector(text=html_content)\n",
    "    res = selector.css('.tec--list .tec--card__title__link')\n",
    "    return list(map(lambda x: x.attrib['href'], res))"
   ]
  },
  {
   "cell_type": "code",
   "execution_count": 4,
   "metadata": {},
   "outputs": [],
   "source": [
    "request_text = fetch('https://www.tecmundo.com.br/novidades')"
   ]
  },
  {
   "cell_type": "code",
   "execution_count": 5,
   "metadata": {},
   "outputs": [
    {
     "data": {
      "text/plain": [
       "['https://www.tecmundo.com.br/minha-serie/232437-the-office-atrizes-serie-comentam-famoso-episodio-parkour.htm',\n",
       " 'https://www.tecmundo.com.br/mercado/232458-microsoft-5-empresas-bilionarias-games-conhecer.htm',\n",
       " 'https://www.tecmundo.com.br/mercado/232417-epic-games-volta-brigar-apple-devido-monopolio-ios.htm',\n",
       " 'https://www.tecmundo.com.br/voxel/232477-ps4-pior-melhor-segundo-critica.htm',\n",
       " 'https://www.tecmundo.com.br/voxel/232398-the-last-of-us-2-joel-esconde-detalhe-legal-flashback-ellie.htm',\n",
       " 'https://www.tecmundo.com.br/minha-serie/232431-and-just-like-that-serie-agrada-fas-sex-and-the-city-critica.htm',\n",
       " 'https://www.tecmundo.com.br/produto/232484-this-is-us-saiba-onde-assistir-serie-dramatica-nbc.htm',\n",
       " 'https://www.tecmundo.com.br/minha-serie/232000-7-servicos-voce-assistir-doramas-brasil.htm',\n",
       " 'https://www.tecmundo.com.br/seguranca/232441-ataques-ciberneticos-aumentarao-eleicoes-2022-diz-especialista.htm',\n",
       " 'https://www.tecmundo.com.br/minha-serie/232483-bel-air-reboot-um-maluco-pedaco-novos-nomes-elenco.htm',\n",
       " 'https://www.tecmundo.com.br/voxel/232462-battlefield-2042-ganhar-versao-free-to-play-segundo-boatos.htm',\n",
       " 'https://www.tecmundo.com.br/mercado/232478-ifood-recebe-autorizacao-anac-fazer-entregas-drones.htm',\n",
       " 'https://www.tecmundo.com.br/minha-serie/232479-star-trek-picard-2-temporada-ganha-trailer-whoopi-goldberg-veja.htm',\n",
       " 'https://www.tecmundo.com.br/ciencia/232448-covid-19-aumenta-brasil-vacina-mantem-mortes-reduzidas.htm',\n",
       " 'https://www.tecmundo.com.br/voxel/232455-need-for-speed-criterion-chegar-setembro-outubro-2022.htm',\n",
       " 'https://www.tecmundo.com.br/aliexpress-experience/232474-5-dicas-facilitar-compras-aliexpress.htm',\n",
       " 'https://www.tecmundo.com.br/software/232432-windows-11-conheca-diferentes-versoes-sistema-operacional.htm',\n",
       " 'https://www.tecmundo.com.br/voxel/232454-call-of-duty-deixar-lancado-anualmente.htm',\n",
       " 'https://www.tecmundo.com.br/mercado/232375-comprar-barato-exterior-receber-no-brasil.htm',\n",
       " 'https://www.tecmundo.com.br/mercado/232445-presidente-banco-mundial-critica-compra-activision-blizzard.htm']"
      ]
     },
     "execution_count": 5,
     "metadata": {},
     "output_type": "execute_result"
    }
   ],
   "source": [
    "scrape_novidades(request_text)"
   ]
  },
  {
   "cell_type": "markdown",
   "metadata": {},
   "source": [
    "### Requisito 03"
   ]
  },
  {
   "cell_type": "code",
   "execution_count": 6,
   "metadata": {},
   "outputs": [],
   "source": [
    "def scrape_next_page_link(html_content):\n",
    "    selector = parsel.Selector(text=html_content)\n",
    "    return selector.css('.tec--list a.tec--btn::attr(\"href\")').get()"
   ]
  },
  {
   "cell_type": "markdown",
   "metadata": {},
   "source": [
    "### Requisito 4"
   ]
  },
  {
   "cell_type": "code",
   "execution_count": 11,
   "metadata": {},
   "outputs": [],
   "source": [
    "def extract_count(strings_list, regex_r):\n",
    "    output = 0\n",
    "    for y in strings_list:\n",
    "        try:\n",
    "            regex = re.search(regex_r, y)\n",
    "            return int(regex.groups()[0])\n",
    "        except AttributeError:\n",
    "            pass\n",
    "    return output\n",
    "\n",
    "\n",
    "def parse_json_writer(jsons_str):\n",
    "    output = None\n",
    "    for json_str in jsons_str:\n",
    "        if json_str is None:\n",
    "            return None\n",
    "\n",
    "        try:\n",
    "            deserialized_json = json.loads(json_str)\n",
    "            output = deserialized_json[\"author\"][\"name\"]\n",
    "        except KeyError:\n",
    "            pass\n",
    "\n",
    "    return output\n",
    "\n",
    "\n",
    "def extract_writer(selector):\n",
    "    selectors = [\n",
    "        selector.css(\".tec--author__info__link::text\").get(),\n",
    "        selector.css(\n",
    "            \".z--flex tec--timestamp tec--timestamp__item::text\"\n",
    "        ).get(),\n",
    "        parse_json_writer(\n",
    "            selector.css('script[type=\"application/ld+json\"]::text').getall()\n",
    "        ),\n",
    "    ]\n",
    "\n",
    "    for writer in selectors:\n",
    "        if writer is not None:\n",
    "            return str.strip(writer)\n",
    "\n",
    "    return None\n",
    "\n",
    "\n",
    "def scrape_noticia(html_content):\n",
    "    selector = parsel.Selector(text=html_content)\n",
    "\n",
    "    seletected = selector.css(\".tec--toolbar__item *::text\").getall()\n",
    "\n",
    "    output = {\n",
    "        \"url\": selector.css('link[rel=\"canonical\"]::attr(href)').get(),\n",
    "        \"title\": selector.css(\"#js-article-title::text\").get(),\n",
    "        \"timestamp\": selector.css(\"#js-article-date::attr(datetime)\").get(),\n",
    "        \"writer\": extract_writer(selector),\n",
    "        \"shares_count\": extract_count(seletected, r\"(\\d+) Compartilharam\"),\n",
    "        \"comments_count\": extract_count(seletected, r\"(\\d+) Comentários\"),\n",
    "        \"summary\": \"\".join(\n",
    "            selector.css(\".tec--article__body > p:first-child ::text\").getall()\n",
    "        ),\n",
    "        \"sources\": list(\n",
    "            map(\n",
    "                str.strip,\n",
    "                selector.css(\".z--mb-16 div a::text\").getall(),\n",
    "            )\n",
    "        ),\n",
    "        \"categories\": list(\n",
    "            map(str.strip, selector.css(\"#js-categories a::text\").getall())\n",
    "        ),\n",
    "    }\n",
    "    return output\n"
   ]
  },
  {
   "cell_type": "code",
   "execution_count": 12,
   "metadata": {},
   "outputs": [
    {
     "data": {
      "text/plain": [
       "{'url': 'https://www.tecmundo.com.br/minha-serie/215285-falcao-soldado-invernal-fas-reacao-curiosa-sebastian-stan.htm',\n",
       " 'title': 'Falcão e o Soldado Invernal: fãs têm reação curiosa ao ver Sebastian Stan',\n",
       " 'timestamp': '2021-04-09T20:00:01',\n",
       " 'writer': 'Gabriel Witiuk',\n",
       " 'shares_count': 0,\n",
       " 'comments_count': 2,\n",
       " 'summary': 'Atualmente fazendo sucesso na série Falcão e o Soldado Invernal, Sebastian Stan tem interpretado Bucky Barnes desde o primeiro filme do Capitão América. Stan contou que os fãs da Marvel sempre tentam \"ativar\" o lado assassino do personagem quando reconhecem o ator nas ruas.',\n",
       " 'sources': ['CBR', 'MCU Exchange'],\n",
       " 'categories': ['Minha Série', 'Séries', 'Elenco', 'Marvel', 'Disney+']}"
      ]
     },
     "execution_count": 12,
     "metadata": {},
     "output_type": "execute_result"
    }
   ],
   "source": [
    "scrape_noticia(\n",
    "  fetch('https://www.tecmundo.com.br/minha-serie/215285-falcao-soldado-invernal-fas-reacao-curiosa-sebastian-stan.htm')\n",
    ")"
   ]
  }
 ],
 "metadata": {
  "interpreter": {
   "hash": "08e36398507cef9315c4504dcbd3ca8a6c098298f4b8c1c58258f6f6d6c82ea1"
  },
  "kernelspec": {
   "display_name": "Python 3.8.10 64-bit ('.venv': venv)",
   "language": "python",
   "name": "python3"
  },
  "language_info": {
   "codemirror_mode": {
    "name": "ipython",
    "version": 3
   },
   "file_extension": ".py",
   "mimetype": "text/x-python",
   "name": "python",
   "nbconvert_exporter": "python",
   "pygments_lexer": "ipython3",
   "version": "3.8.10"
  },
  "orig_nbformat": 4
 },
 "nbformat": 4,
 "nbformat_minor": 2
}
